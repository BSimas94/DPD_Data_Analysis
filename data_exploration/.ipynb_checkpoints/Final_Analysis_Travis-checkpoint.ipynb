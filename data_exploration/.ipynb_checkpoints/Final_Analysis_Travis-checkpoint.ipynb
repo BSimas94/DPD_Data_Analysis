{
 "cells": [
  {
   "cell_type": "markdown",
   "metadata": {},
   "source": [
    "## Read in data"
   ]
  },
  {
   "cell_type": "code",
   "execution_count": 1,
   "metadata": {
    "collapsed": false
   },
   "outputs": [
    {
     "ename": "FileNotFoundError",
     "evalue": "[WinError 3] The system cannot find the path specified: '/Users/travisgreenwald/downloads/'",
     "output_type": "error",
     "traceback": [
      "\u001b[0;31m---------------------------------------------------------------------------\u001b[0m",
      "\u001b[0;31mFileNotFoundError\u001b[0m                         Traceback (most recent call last)",
      "\u001b[0;32m<ipython-input-1-09c8e7281d23>\u001b[0m in \u001b[0;36m<module>\u001b[0;34m()\u001b[0m\n\u001b[1;32m      7\u001b[0m \u001b[1;33m\u001b[0m\u001b[0m\n\u001b[1;32m      8\u001b[0m \u001b[0mwd\u001b[0m \u001b[1;33m=\u001b[0m \u001b[0mos\u001b[0m\u001b[1;33m.\u001b[0m\u001b[0mgetcwd\u001b[0m\u001b[1;33m(\u001b[0m\u001b[1;33m)\u001b[0m\u001b[1;33m\u001b[0m\u001b[0m\n\u001b[0;32m----> 9\u001b[0;31m \u001b[0mos\u001b[0m\u001b[1;33m.\u001b[0m\u001b[0mchdir\u001b[0m\u001b[1;33m(\u001b[0m\u001b[1;34m'/Users/travisgreenwald/downloads/'\u001b[0m\u001b[1;33m)\u001b[0m\u001b[1;33m\u001b[0m\u001b[0m\n\u001b[0m\u001b[1;32m     10\u001b[0m \u001b[0mdf\u001b[0m \u001b[1;33m=\u001b[0m \u001b[0mpandas\u001b[0m\u001b[1;33m.\u001b[0m\u001b[0mread_excel\u001b[0m\u001b[1;33m(\u001b[0m\u001b[1;34m'JSS_RawArrests.xlsx'\u001b[0m\u001b[1;33m)\u001b[0m\u001b[1;33m\u001b[0m\u001b[0m\n\u001b[1;32m     11\u001b[0m \u001b[0mdf\u001b[0m \u001b[1;33m=\u001b[0m \u001b[0mDataFrame\u001b[0m\u001b[1;33m(\u001b[0m\u001b[0mdf\u001b[0m\u001b[1;33m)\u001b[0m\u001b[1;33m\u001b[0m\u001b[0m\n",
      "\u001b[0;31mFileNotFoundError\u001b[0m: [WinError 3] The system cannot find the path specified: '/Users/travisgreenwald/downloads/'"
     ]
    }
   ],
   "source": [
    "from __future__ import absolute_import, division, print_function\n",
    "\n",
    "import numpy\n",
    "import os\n",
    "import pandas\n",
    "from pandas import DataFrame\n",
    "\n",
    "wd = os.getcwd()\n",
    "os.chdir('/Users/travisgreenwald/downloads/')\n",
    "df = pandas.read_excel('JSS_RawArrests.xlsx')\n",
    "df = DataFrame(df)\n",
    "\n",
    "df.head()"
   ]
  },
  {
   "cell_type": "code",
   "execution_count": null,
   "metadata": {
    "collapsed": false
   },
   "outputs": [],
   "source": [
    "arrests = df.drop_duplicates(subset=['ArrestPrimaryKey','PIN'])\n",
    "timesArrested = pandas.DataFrame({'PIN': arrests['PIN'].value_counts().index,\n",
    "                             'Times_Arrested': arrests['PIN'].value_counts().values})\n",
    "unqPeople = df.drop_duplicates(subset='PIN')\n",
    "personNumArrests = unqPeople.merge(timesArrested,on='PIN')\n",
    "repArrestees = personNumArrests[personNumArrests['Times_Arrested']>1]\n",
    "singleArrestees = personNumArrests[personNumArrests['Times_Arrested']==1]\n",
    "\n",
    "\n",
    "\n",
    "\n",
    "#All multiple arrested \n",
    "dfMultiple = DataFrame(repArrestees)\n",
    "\n",
    "#All single time arrested\n",
    "dfSingle = DataFrame(singleArrestees)"
   ]
  },
  {
   "cell_type": "markdown",
   "metadata": {},
   "source": [
    "## Top dates arrested, single vs multiple"
   ]
  },
  {
   "cell_type": "markdown",
   "metadata": {},
   "source": [
    "### Single"
   ]
  },
  {
   "cell_type": "code",
   "execution_count": null,
   "metadata": {
    "collapsed": false
   },
   "outputs": [],
   "source": [
    "dateSliceS = dfSingle['ARREST_DATE']\n",
    "dateSliceS = pandas.to_datetime(dateSliceS)\n",
    "grpDateS = dfSingle.groupby('ARREST_DATE')\n",
    "dailyCountS = grpDateS['ID'].count()\n",
    "dailyCountS = dailyCountS.sort_values(ascending=False)\n",
    "dailyCountS = DataFrame(dailyCountS)\n",
    "dailyCountS[:10]"
   ]
  },
  {
   "cell_type": "markdown",
   "metadata": {},
   "source": [
    "### Multiple"
   ]
  },
  {
   "cell_type": "code",
   "execution_count": null,
   "metadata": {
    "collapsed": false
   },
   "outputs": [],
   "source": [
    "dateSliceM = dfMultiple['ARREST_DATE']\n",
    "dateSliceM = pandas.to_datetime(dateSliceM)\n",
    "grpDateM = dfMultiple.groupby('ARREST_DATE')\n",
    "dailyCountM = grpDateM['ID'].count()\n",
    "dailyCountM = dailyCountM.sort_values(ascending=False)\n",
    "dailyCountM = DataFrame(dailyCountM)\n",
    "dailyCountM[:10]"
   ]
  },
  {
   "cell_type": "markdown",
   "metadata": {},
   "source": [
    "### Time Series, single vs multiple"
   ]
  },
  {
   "cell_type": "markdown",
   "metadata": {},
   "source": [
    "### Single"
   ]
  },
  {
   "cell_type": "code",
   "execution_count": null,
   "metadata": {
    "collapsed": false
   },
   "outputs": [],
   "source": [
    "%matplotlib inline\n",
    "import matplotlib.pyplot as plt\n",
    "dailyCountS = grpDateS['ID'].count()\n",
    "dailyCountS = dailyCountS['2015-1-1':]\n",
    "dailyCountS.plot(figsize = (20,6))\n",
    "plt.xlabel('Date')\n",
    "plt.ylabel('Number of arrests')\n",
    "plt.title('Arrests by date (Single Arrestees)')"
   ]
  },
  {
   "cell_type": "markdown",
   "metadata": {},
   "source": [
    "### Multiple"
   ]
  },
  {
   "cell_type": "code",
   "execution_count": null,
   "metadata": {
    "collapsed": false
   },
   "outputs": [],
   "source": [
    "import matplotlib.pyplot as plt\n",
    "dailyCountM = grpDateM['ID'].count()\n",
    "dailyCountM = dailyCountM['2015-1-1':]\n",
    "dailyCountM.plot(figsize = (20,6))\n",
    "plt.xlabel('Date')\n",
    "plt.ylabel('Number of arrests')\n",
    "plt.title('Arrests by date (Multiple Arrestees)')"
   ]
  },
  {
   "cell_type": "markdown",
   "metadata": {},
   "source": [
    "## Predict Date, single vs multiple"
   ]
  },
  {
   "cell_type": "markdown",
   "metadata": {},
   "source": [
    "### Single"
   ]
  },
  {
   "cell_type": "code",
   "execution_count": null,
   "metadata": {
    "collapsed": false
   },
   "outputs": [],
   "source": [
    "from scipy import stats  \n",
    "from statsmodels.formula.api import ols\n",
    "\n",
    "model2 = ols(\"ARREST_DATE ~ CITY + SEX + DOB \",data=dfSingle).fit()\n",
    "print(model2.summary()) # Print the results\n",
    "\n",
    "modelSingle = model2\n",
    "intercept = round(modelSingle.params[0],2)\n",
    "y=df['ARREST_DATE']\n",
    "yvar = 'Date'\n",
    "x1var = 'City'\n",
    "x1coef = round(modelSingle.params[1],2)\n",
    "x2var = 'Gender'\n",
    "x2coef = round(modelSingle.params[2],2)\n",
    "x3var = 'Date of birth'\n",
    "x3coef = round(modelSingle.params[3],2)\n",
    "r2adj = round(modelSingle.rsquared_adj,2) #use for multiple regression\n",
    "p_val = round(modelSingle.f_pvalue,4)"
   ]
  },
  {
   "cell_type": "markdown",
   "metadata": {},
   "source": [
    "### Mutliple"
   ]
  },
  {
   "cell_type": "code",
   "execution_count": null,
   "metadata": {
    "collapsed": true
   },
   "outputs": [],
   "source": []
  },
  {
   "cell_type": "markdown",
   "metadata": {},
   "source": [
    "## Top single arrest cities"
   ]
  },
  {
   "cell_type": "code",
   "execution_count": null,
   "metadata": {
    "collapsed": false
   },
   "outputs": [],
   "source": [
    "import matplotlib.pyplot as plt\n",
    "import seaborn as sns\n",
    "%matplotlib inline\n",
    "topSingleArrCities = dfSingle['CITY'].value_counts().head(6)\n",
    "plt.figure(figsize=(16,10))\n",
    "sns.countplot(dfSingle[dfSingle['CITY'].isin(topSingleArrCities.index)]['CITY'])\n",
    "plt.title('Top 6 Cities by # of Single Arrestees',size=20)\n",
    "plt.xlabel('City',fontsize=15)\n",
    "plt.ylabel('Count',fontsize=15)"
   ]
  },
  {
   "cell_type": "code",
   "execution_count": null,
   "metadata": {
    "collapsed": false
   },
   "outputs": [],
   "source": [
    "topCititesSingleDen = ['AURORA','LITTLETON','LAKEWOOD','THORNTON','ARVADA']\n",
    "plt.figure(figsize=(16,10))\n",
    "sns.countplot(dfSingle[dfSingle['CITY'].isin(topCititesSingleDen)]['CITY'], order = ['AURORA', 'LAKEWOOD', 'THORNTON', 'LITTLETON', 'ARVADA'])\n",
    "plt.title('Top 5 Cities by # of Single Arrestees (Excluding Denver)',size=20)\n",
    "plt.xlabel('City',fontsize=15)\n",
    "plt.ylabel('Count',fontsize=15)"
   ]
  }
 ],
 "metadata": {
  "kernelspec": {
   "display_name": "Python 3",
   "language": "python",
   "name": "python3"
  },
  "language_info": {
   "codemirror_mode": {
    "name": "ipython",
    "version": 3
   },
   "file_extension": ".py",
   "mimetype": "text/x-python",
   "name": "python",
   "nbconvert_exporter": "python",
   "pygments_lexer": "ipython3",
   "version": "3.6.0"
  }
 },
 "nbformat": 4,
 "nbformat_minor": 2
}
