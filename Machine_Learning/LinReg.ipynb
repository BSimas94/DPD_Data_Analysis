{
 "cells": [
  {
   "cell_type": "code",
   "execution_count": null,
   "metadata": {
    "collapsed": true
   },
   "outputs": [],
   "source": [
    "#This linear regression model aims to predict daily offense totals based on\n",
    "#the predictors: year-week, average daily temperatures, and month of the year (1-12)\n",
    "\n",
    "#import appropriate libraries\n",
    "import numpy as np \n",
    "import pandas as pd \n",
    "import seaborn as sns\n",
    "import matplotlib as plt\n",
    "from sklearn.model_selection import train_test_split\n",
    "from sklearn import linear_model\n",
    "\n",
    "#read in offenses, weather,and liquor license data\n",
    "off_data = pd.read_csv('../../Data/OffensesData.csv')\n",
    "wea_data = pd.read_csv('../../Data/NOAAWeatherDataDIA.csv')\n",
    "liq_data = pd.read_csv('../../Data/LiquorLicenses.csv')\n",
    "\n",
    "#prepare an aggregate variable containing total active liquor licenses by district and total offenses per day\n",
    "tot_dist_lic = liq_data['POLICE_DIST'].value_counts().sort_index()\n",
    "tot_daily_off = off_data['Occ Date'].value_counts().sort_index()\n",
    "\n",
    "#put the appropriate external variables into the offenses dataset and keep only unique dates\n",
    "step1 = off_data.merge(wea_data,how='inner',left_on='Occ Date',right_on='DATE')\n",
    "step2 = pd.DataFrame({'District':tot_dist_lic.index,\n",
    "                      'Total Licenses':tot_dist_lic.values})\n",
    "step3 = step1.merge(step2,on='District')\n",
    "step4 = pd.DataFrame({'Occ Date':tot_daily_off.index,\n",
    "                      'Total Offenses':tot_daily_off.values})\n",
    "step5 = step3.merge(step4,on='Occ Date')\n",
    "df = step5.drop_duplicates(['Occ Date'])\n",
    "\n",
    "#slice the data to get the predictors and convert the 'Year-Week' categorical data to dummies\n",
    "df_predictors = df[['Year-Week','DAILYAverageDryBulbTemp','Occ Date: Month']]\n",
    "cols_to_transform = ['Year-Week']\n",
    "df_with_dummies = pd.get_dummies(df_predictors,columns=cols_to_transform)\n",
    "\n",
    "#store the predictos(including dummies for 'Year-Week') and response variables into x and y\n",
    "x = df_with_dummies\n",
    "y = df['Total Offenses']\n",
    "\n",
    "#create the train and test split\n",
    "x_train,x_test,y_train,y_test = train_test_split(x,y,test_size=0.3,random_state=101)\n",
    "\n",
    "#create and train the linear regression model\n",
    "linreg = linear_model.LinearRegression()\n",
    "linreg.fit(x_train,y_train)\n",
    "\n",
    "#show the distribution of observed response values, print the R^2 of the linear regression model, and show the residual plot resulting from model predictions\n",
    "sns.distplot(df['Total Offenses'])\n",
    "sns.plt.show()\n",
    "print 'Linear Regression Model Output'\n",
    "print '------------------------------'\n",
    "print 'R-Square: ' + str(linreg.score(x_test,y_test))\n",
    "sns.regplot(linreg.predict(x_test),linreg.predict(x_test)-y_test,fit_reg=False)\n",
    "sns.plt.show()"
   ]
  }
 ],
 "metadata": {
  "kernelspec": {
   "display_name": "Python 2",
   "language": "python",
   "name": "python2"
  },
  "language_info": {
   "codemirror_mode": {
    "name": "ipython",
    "version": 2.0
   },
   "file_extension": ".py",
   "mimetype": "text/x-python",
   "name": "python",
   "nbconvert_exporter": "python",
   "pygments_lexer": "ipython2",
   "version": "2.7.6"
  }
 },
 "nbformat": 4,
 "nbformat_minor": 0
}