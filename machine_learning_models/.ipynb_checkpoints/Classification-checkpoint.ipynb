{
 "cells": [
  {
   "cell_type": "markdown",
   "metadata": {},
   "source": [
    "# Classification Model\n",
    "---\n",
    "#### Aims to predict whether a criminal who has been arrested will be a single or repeat arrestee"
   ]
  },
  {
   "cell_type": "code",
   "execution_count": 1,
   "metadata": {
    "collapsed": true
   },
   "outputs": [],
   "source": [
    "import pandas as pd\n",
    "import numpy as np\n",
    "import matplotlib.pyplot as plt\n",
    "import seaborn as sns\n",
    "%matplotlib inline"
   ]
  },
  {
   "cell_type": "code",
   "execution_count": 2,
   "metadata": {
    "collapsed": true
   },
   "outputs": [],
   "source": [
    "df = pd.read_csv('../../Data/JSSRawArrests.csv',encoding='ISO-8859-1',low_memory=False)\n",
    "df['ARREST_DATE'] = pd.to_datetime(df['ARREST_DATE'])"
   ]
  },
  {
   "cell_type": "code",
   "execution_count": 3,
   "metadata": {
    "collapsed": false
   },
   "outputs": [],
   "source": [
    "df = df.drop_duplicates(subset=['ArrestPrimaryKey','PIN'])\n",
    "\n",
    "year = []\n",
    "month = []\n",
    "for n in df['ARREST_DATE']:\n",
    "    year.append(n.year)\n",
    "    month.append(n.month)\n",
    "df['Year'] = year\n",
    "df['Month'] = month\n",
    "\n",
    "timesArr = df.groupby('PIN').count()['ID'].values\n",
    "arrestees = df.drop_duplicates(subset='PIN')\n",
    "arrestees = arrestees.sort_values(by='PIN')\n",
    "arrestees['Times_Arrested'] = timesArr\n",
    "\n",
    "repClass = []\n",
    "for n in arrestees['Times_Arrested']:\n",
    "    if n > 1:\n",
    "        repClass.append(1)\n",
    "    else:\n",
    "        repClass.append(0)\n",
    "arrestees['Rep_Arrestee'] = repClass\n",
    "\n",
    "#For time series model\n",
    "df = df.merge(arrestees[['PIN','Times_Arrested','Rep_Arrestee']],on='PIN')"
   ]
  },
  {
   "cell_type": "code",
   "execution_count": 4,
   "metadata": {
    "collapsed": false
   },
   "outputs": [
    {
     "data": {
      "text/plain": [
       "0    13239\n",
       "1     4866\n",
       "Name: Rep_Arrestee, dtype: int64"
      ]
     },
     "execution_count": 4,
     "metadata": {},
     "output_type": "execute_result"
    }
   ],
   "source": [
    "arrestees_feat = arrestees.select_dtypes(exclude=['object','datetime64'])\n",
    "arrestees_feat = arrestees_feat.drop(['ID','AB_RIN','Arrest_RIN','PIN','Times_Arrested'],axis=1)\n",
    "arrestees_feat = arrestees_feat.dropna()\n",
    "arrestees_feat['Rep_Arrestee'].value_counts()"
   ]
  },
  {
   "cell_type": "code",
   "execution_count": 5,
   "metadata": {
    "collapsed": false
   },
   "outputs": [
    {
     "name": "stdout",
     "output_type": "stream",
     "text": [
      "<class 'pandas.core.frame.DataFrame'>\n",
      "Int64Index: 9732 entries, 94226 to 204408\n",
      "Data columns (total 10 columns):\n",
      "ARREST_TIME     9732 non-null float64\n",
      "ArrestCounty    9732 non-null float64\n",
      "Arrests_X       9732 non-null float64\n",
      "Arrest_Y        9732 non-null float64\n",
      "MUNICIPALITY    9732 non-null float64\n",
      "YOB             9732 non-null float64\n",
      "X_COORDINATE    9732 non-null float64\n",
      "Y_COORDINATE    9732 non-null float64\n",
      "Year            9732 non-null int64\n",
      "Month           9732 non-null int64\n",
      "dtypes: float64(8), int64(2)\n",
      "memory usage: 836.3 KB\n"
     ]
    }
   ],
   "source": [
    "samp0 = arrestees_feat[arrestees_feat['Rep_Arrestee']==0].sample(n=4866,random_state=50)\n",
    "allRep = arrestees_feat[arrestees_feat['Rep_Arrestee']==1]\n",
    "arrestees_feat = pd.concat([samp0,allRep])\n",
    "target = np.array(arrestees_feat['Rep_Arrestee'])\n",
    "arrestees_feat = arrestees_feat.drop(['Rep_Arrestee'],axis=1)\n",
    "arrestees_feat.info()"
   ]
  },
  {
   "cell_type": "code",
   "execution_count": 6,
   "metadata": {
    "collapsed": false,
    "scrolled": true
   },
   "outputs": [
    {
     "data": {
      "text/plain": [
       "array([4866, 4866], dtype=int64)"
      ]
     },
     "execution_count": 6,
     "metadata": {},
     "output_type": "execute_result"
    }
   ],
   "source": [
    "np.bincount(target)"
   ]
  },
  {
   "cell_type": "code",
   "execution_count": 7,
   "metadata": {
    "collapsed": false,
    "scrolled": true
   },
   "outputs": [
    {
     "data": {
      "text/html": [
       "<div>\n",
       "<table border=\"1\" class=\"dataframe\">\n",
       "  <thead>\n",
       "    <tr style=\"text-align: right;\">\n",
       "      <th></th>\n",
       "      <th>ARREST_TIME</th>\n",
       "      <th>ArrestCounty</th>\n",
       "      <th>Arrests_X</th>\n",
       "      <th>Arrest_Y</th>\n",
       "      <th>MUNICIPALITY</th>\n",
       "      <th>YOB</th>\n",
       "      <th>X_COORDINATE</th>\n",
       "      <th>Y_COORDINATE</th>\n",
       "      <th>Year</th>\n",
       "      <th>Month</th>\n",
       "    </tr>\n",
       "  </thead>\n",
       "  <tbody>\n",
       "    <tr>\n",
       "      <th>count</th>\n",
       "      <td>9732.000000</td>\n",
       "      <td>9732.000000</td>\n",
       "      <td>9.732000e+03</td>\n",
       "      <td>9.732000e+03</td>\n",
       "      <td>9732.000000</td>\n",
       "      <td>9732.000000</td>\n",
       "      <td>9.732000e+03</td>\n",
       "      <td>9.732000e+03</td>\n",
       "      <td>9732.000000</td>\n",
       "      <td>9732.000000</td>\n",
       "    </tr>\n",
       "    <tr>\n",
       "      <th>mean</th>\n",
       "      <td>1308.697904</td>\n",
       "      <td>2.999383</td>\n",
       "      <td>3.149146e+06</td>\n",
       "      <td>1.692375e+06</td>\n",
       "      <td>30.919955</td>\n",
       "      <td>1983.948109</td>\n",
       "      <td>3.109347e+06</td>\n",
       "      <td>1.668616e+06</td>\n",
       "      <td>2014.188450</td>\n",
       "      <td>6.573880</td>\n",
       "    </tr>\n",
       "    <tr>\n",
       "      <th>std</th>\n",
       "      <td>717.676793</td>\n",
       "      <td>0.090668</td>\n",
       "      <td>1.893976e+04</td>\n",
       "      <td>1.323729e+04</td>\n",
       "      <td>2.843838</td>\n",
       "      <td>13.725335</td>\n",
       "      <td>3.613343e+05</td>\n",
       "      <td>1.961518e+05</td>\n",
       "      <td>0.898072</td>\n",
       "      <td>3.400507</td>\n",
       "    </tr>\n",
       "    <tr>\n",
       "      <th>min</th>\n",
       "      <td>0.000000</td>\n",
       "      <td>1.000000</td>\n",
       "      <td>3.082712e+06</td>\n",
       "      <td>1.649016e+06</td>\n",
       "      <td>1.000000</td>\n",
       "      <td>1900.000000</td>\n",
       "      <td>0.000000e+00</td>\n",
       "      <td>0.000000e+00</td>\n",
       "      <td>2013.000000</td>\n",
       "      <td>1.000000</td>\n",
       "    </tr>\n",
       "    <tr>\n",
       "      <th>25%</th>\n",
       "      <td>835.000000</td>\n",
       "      <td>3.000000</td>\n",
       "      <td>3.134131e+06</td>\n",
       "      <td>1.683391e+06</td>\n",
       "      <td>31.000000</td>\n",
       "      <td>1976.000000</td>\n",
       "      <td>3.133252e+06</td>\n",
       "      <td>1.679772e+06</td>\n",
       "      <td>2013.000000</td>\n",
       "      <td>4.000000</td>\n",
       "    </tr>\n",
       "    <tr>\n",
       "      <th>50%</th>\n",
       "      <td>1429.500000</td>\n",
       "      <td>3.000000</td>\n",
       "      <td>3.144006e+06</td>\n",
       "      <td>1.694789e+06</td>\n",
       "      <td>31.000000</td>\n",
       "      <td>1987.000000</td>\n",
       "      <td>3.145122e+06</td>\n",
       "      <td>1.693384e+06</td>\n",
       "      <td>2014.000000</td>\n",
       "      <td>7.000000</td>\n",
       "    </tr>\n",
       "    <tr>\n",
       "      <th>75%</th>\n",
       "      <td>1910.000000</td>\n",
       "      <td>3.000000</td>\n",
       "      <td>3.158280e+06</td>\n",
       "      <td>1.701945e+06</td>\n",
       "      <td>31.000000</td>\n",
       "      <td>1995.000000</td>\n",
       "      <td>3.164146e+06</td>\n",
       "      <td>1.703319e+06</td>\n",
       "      <td>2015.000000</td>\n",
       "      <td>9.000000</td>\n",
       "    </tr>\n",
       "    <tr>\n",
       "      <th>max</th>\n",
       "      <td>2359.000000</td>\n",
       "      <td>4.000000</td>\n",
       "      <td>3.234312e+06</td>\n",
       "      <td>1.738721e+06</td>\n",
       "      <td>55.000000</td>\n",
       "      <td>2005.000000</td>\n",
       "      <td>3.214988e+06</td>\n",
       "      <td>1.718099e+06</td>\n",
       "      <td>2016.000000</td>\n",
       "      <td>12.000000</td>\n",
       "    </tr>\n",
       "  </tbody>\n",
       "</table>\n",
       "</div>"
      ],
      "text/plain": [
       "       ARREST_TIME  ArrestCounty     Arrests_X      Arrest_Y  MUNICIPALITY  \\\n",
       "count  9732.000000   9732.000000  9.732000e+03  9.732000e+03   9732.000000   \n",
       "mean   1308.697904      2.999383  3.149146e+06  1.692375e+06     30.919955   \n",
       "std     717.676793      0.090668  1.893976e+04  1.323729e+04      2.843838   \n",
       "min       0.000000      1.000000  3.082712e+06  1.649016e+06      1.000000   \n",
       "25%     835.000000      3.000000  3.134131e+06  1.683391e+06     31.000000   \n",
       "50%    1429.500000      3.000000  3.144006e+06  1.694789e+06     31.000000   \n",
       "75%    1910.000000      3.000000  3.158280e+06  1.701945e+06     31.000000   \n",
       "max    2359.000000      4.000000  3.234312e+06  1.738721e+06     55.000000   \n",
       "\n",
       "               YOB  X_COORDINATE  Y_COORDINATE         Year        Month  \n",
       "count  9732.000000  9.732000e+03  9.732000e+03  9732.000000  9732.000000  \n",
       "mean   1983.948109  3.109347e+06  1.668616e+06  2014.188450     6.573880  \n",
       "std      13.725335  3.613343e+05  1.961518e+05     0.898072     3.400507  \n",
       "min    1900.000000  0.000000e+00  0.000000e+00  2013.000000     1.000000  \n",
       "25%    1976.000000  3.133252e+06  1.679772e+06  2013.000000     4.000000  \n",
       "50%    1987.000000  3.145122e+06  1.693384e+06  2014.000000     7.000000  \n",
       "75%    1995.000000  3.164146e+06  1.703319e+06  2015.000000     9.000000  \n",
       "max    2005.000000  3.214988e+06  1.718099e+06  2016.000000    12.000000  "
      ]
     },
     "execution_count": 7,
     "metadata": {},
     "output_type": "execute_result"
    }
   ],
   "source": [
    "arrestees_feat.describe()"
   ]
  },
  {
   "cell_type": "markdown",
   "metadata": {},
   "source": [
    "## Principle Component Analysis\n",
    "---"
   ]
  },
  {
   "cell_type": "code",
   "execution_count": 8,
   "metadata": {
    "collapsed": false
   },
   "outputs": [],
   "source": [
    "from sklearn.preprocessing import StandardScaler"
   ]
  },
  {
   "cell_type": "code",
   "execution_count": 9,
   "metadata": {
    "collapsed": false
   },
   "outputs": [
    {
     "data": {
      "text/plain": [
       "StandardScaler(copy=True, with_mean=True, with_std=True)"
      ]
     },
     "execution_count": 9,
     "metadata": {},
     "output_type": "execute_result"
    }
   ],
   "source": [
    "scaler = StandardScaler()\n",
    "scaler.fit(arrestees_feat)"
   ]
  },
  {
   "cell_type": "code",
   "execution_count": 10,
   "metadata": {
    "collapsed": false
   },
   "outputs": [],
   "source": [
    "scaled_data = scaler.transform(arrestees_feat)"
   ]
  },
  {
   "cell_type": "code",
   "execution_count": 11,
   "metadata": {
    "collapsed": true
   },
   "outputs": [],
   "source": [
    "from sklearn.decomposition import PCA"
   ]
  },
  {
   "cell_type": "code",
   "execution_count": 12,
   "metadata": {
    "collapsed": true
   },
   "outputs": [],
   "source": [
    "pca = PCA(n_components=2)"
   ]
  },
  {
   "cell_type": "code",
   "execution_count": 13,
   "metadata": {
    "collapsed": false
   },
   "outputs": [
    {
     "data": {
      "text/plain": [
       "PCA(copy=True, iterated_power='auto', n_components=2, random_state=None,\n",
       "  svd_solver='auto', tol=0.0, whiten=False)"
      ]
     },
     "execution_count": 13,
     "metadata": {},
     "output_type": "execute_result"
    }
   ],
   "source": [
    "pca.fit(scaled_data)"
   ]
  },
  {
   "cell_type": "code",
   "execution_count": 14,
   "metadata": {
    "collapsed": true
   },
   "outputs": [],
   "source": [
    "x_pca = pca.transform(scaled_data)"
   ]
  },
  {
   "cell_type": "code",
   "execution_count": 15,
   "metadata": {
    "collapsed": false
   },
   "outputs": [
    {
     "data": {
      "text/plain": [
       "(9732, 10)"
      ]
     },
     "execution_count": 15,
     "metadata": {},
     "output_type": "execute_result"
    }
   ],
   "source": [
    "scaled_data.shape"
   ]
  },
  {
   "cell_type": "code",
   "execution_count": 16,
   "metadata": {
    "collapsed": false
   },
   "outputs": [
    {
     "data": {
      "text/plain": [
       "(9732, 2)"
      ]
     },
     "execution_count": 16,
     "metadata": {},
     "output_type": "execute_result"
    }
   ],
   "source": [
    "x_pca.shape"
   ]
  },
  {
   "cell_type": "code",
   "execution_count": 17,
   "metadata": {
    "collapsed": false,
    "scrolled": false
   },
   "outputs": [
    {
     "data": {
      "text/plain": [
       "<matplotlib.text.Text at 0x1fb9e1a1e48>"
      ]
     },
     "execution_count": 17,
     "metadata": {},
     "output_type": "execute_result"
    },
    {
     "data": {
      "image/png": "[encoded data removed]",
      "text/plain": [
       "<matplotlib.figure.Figure at 0x1fb9e016c50>"
      ]
     },
     "metadata": {},
     "output_type": "display_data"
    }
   ],
   "source": [
    "plt.figure(figsize=(8,6))\n",
    "plt.scatter(x_pca[:,0],x_pca[:,1],c=target,cmap='plasma',alpha=.5)\n",
    "plt.xlabel('First principal component')\n",
    "plt.ylabel('Second Principal Component')"
   ]
  },
  {
   "cell_type": "code",
   "execution_count": 18,
   "metadata": {
    "collapsed": false
   },
   "outputs": [
    {
     "data": {
      "text/plain": [
       "array([[ -9.12022604e-03,   1.68954091e-02,  -1.10084326e-01,\n",
       "         -8.48014218e-02,  -7.27579668e-02,  -2.59246771e-02,\n",
       "         -6.97531839e-01,  -6.97668121e-01,   7.82962358e-03,\n",
       "         -3.16692316e-02],\n",
       "       [  4.93243879e-02,  -1.81779629e-01,   6.68522509e-01,\n",
       "          6.72249505e-01,  -6.20723651e-02,   2.36609180e-05,\n",
       "         -9.84212398e-02,  -9.39980050e-02,  -1.81924488e-01,\n",
       "          1.01042889e-01]])"
      ]
     },
     "execution_count": 18,
     "metadata": {},
     "output_type": "execute_result"
    }
   ],
   "source": [
    "pca.components_"
   ]
  },
  {
   "cell_type": "code",
   "execution_count": 19,
   "metadata": {
    "collapsed": true
   },
   "outputs": [],
   "source": [
    "components = pd.DataFrame(pca.components_,columns=arrestees_feat.columns)"
   ]
  },
  {
   "cell_type": "code",
   "execution_count": 20,
   "metadata": {
    "collapsed": false
   },
   "outputs": [
    {
     "data": {
      "text/plain": [
       "<matplotlib.axes._subplots.AxesSubplot at 0x1fb9e016588>"
      ]
     },
     "execution_count": 20,
     "metadata": {},
     "output_type": "execute_result"
    },
    {
     "data": {
      "image/png": "[encoded data removed]",
      "text/plain": [
       "<matplotlib.figure.Figure at 0x1fb9e1979b0>"
      ]
     },
     "metadata": {},
     "output_type": "display_data"
    }
   ],
   "source": [
    "plt.figure(figsize=(12,6))\n",
    "sns.heatmap(components,cmap='plasma',)"
   ]
  },
  {
   "cell_type": "code",
   "execution_count": 21,
   "metadata": {
    "collapsed": true
   },
   "outputs": [],
   "source": [
    "from sklearn.model_selection import train_test_split"
   ]
  },
  {
   "cell_type": "code",
   "execution_count": 22,
   "metadata": {
    "collapsed": false
   },
   "outputs": [],
   "source": [
    "x = arrestees_feat\n",
    "y = target\n",
    "x_train, x_test, y_train, y_test = train_test_split(x, y, test_size=0.3, random_state=50)"
   ]
  },
  {
   "cell_type": "markdown",
   "metadata": {},
   "source": [
    "## Random Forest - Classifying Arrestees As Single/Repeat\n",
    "---"
   ]
  },
  {
   "cell_type": "code",
   "execution_count": 23,
   "metadata": {
    "collapsed": true
   },
   "outputs": [],
   "source": [
    "from sklearn.ensemble import RandomForestClassifier"
   ]
  },
  {
   "cell_type": "code",
   "execution_count": 24,
   "metadata": {
    "collapsed": false
   },
   "outputs": [
    {
     "data": {
      "text/plain": [
       "RandomForestClassifier(bootstrap=True, class_weight=None, criterion='gini',\n",
       "            max_depth=None, max_features='auto', max_leaf_nodes=None,\n",
       "            min_impurity_split=1e-07, min_samples_leaf=1,\n",
       "            min_samples_split=2, min_weight_fraction_leaf=0.0,\n",
       "            n_estimators=100, n_jobs=1, oob_score=False, random_state=None,\n",
       "            verbose=0, warm_start=False)"
      ]
     },
     "execution_count": 24,
     "metadata": {},
     "output_type": "execute_result"
    }
   ],
   "source": [
    "rfc = RandomForestClassifier(n_estimators=100)\n",
    "rfc.fit(x_train, y_train)"
   ]
  },
  {
   "cell_type": "code",
   "execution_count": 25,
   "metadata": {
    "collapsed": true
   },
   "outputs": [],
   "source": [
    "rfc_pred = rfc.predict(x_test)"
   ]
  },
  {
   "cell_type": "code",
   "execution_count": 26,
   "metadata": {
    "collapsed": true
   },
   "outputs": [],
   "source": [
    "from sklearn.metrics import classification_report,confusion_matrix"
   ]
  },
  {
   "cell_type": "code",
   "execution_count": 27,
   "metadata": {
    "collapsed": false
   },
   "outputs": [
    {
     "name": "stdout",
     "output_type": "stream",
     "text": [
      "             precision    recall  f1-score   support\n",
      "\n",
      "          0       0.62      0.63      0.63      1482\n",
      "          1       0.61      0.61      0.61      1438\n",
      "\n",
      "avg / total       0.62      0.62      0.62      2920\n",
      "\n",
      "\n",
      "\n",
      "[[932 550]\n",
      " [568 870]]\n"
     ]
    }
   ],
   "source": [
    "print(classification_report(y_test,rfc_pred))\n",
    "print('\\n')\n",
    "print(confusion_matrix(y_test,rfc_pred))"
   ]
  },
  {
   "cell_type": "markdown",
   "metadata": {},
   "source": [
    "## Classification Tree - Classifying Arrestees As Single/Repeat\n",
    "---"
   ]
  },
  {
   "cell_type": "code",
   "execution_count": 28,
   "metadata": {
    "collapsed": true
   },
   "outputs": [],
   "source": [
    "from sklearn.tree import DecisionTreeClassifier"
   ]
  },
  {
   "cell_type": "code",
   "execution_count": 29,
   "metadata": {
    "collapsed": true
   },
   "outputs": [],
   "source": [
    "dtree = DecisionTreeClassifier()"
   ]
  },
  {
   "cell_type": "code",
   "execution_count": 30,
   "metadata": {
    "collapsed": false
   },
   "outputs": [
    {
     "data": {
      "text/plain": [
       "DecisionTreeClassifier(class_weight=None, criterion='gini', max_depth=None,\n",
       "            max_features=None, max_leaf_nodes=None,\n",
       "            min_impurity_split=1e-07, min_samples_leaf=1,\n",
       "            min_samples_split=2, min_weight_fraction_leaf=0.0,\n",
       "            presort=False, random_state=None, splitter='best')"
      ]
     },
     "execution_count": 30,
     "metadata": {},
     "output_type": "execute_result"
    }
   ],
   "source": [
    "dtree.fit(x_train,y_train)"
   ]
  },
  {
   "cell_type": "code",
   "execution_count": 31,
   "metadata": {
    "collapsed": false
   },
   "outputs": [],
   "source": [
    "dtree_pred = dtree.predict(x_test)"
   ]
  },
  {
   "cell_type": "code",
   "execution_count": 32,
   "metadata": {
    "collapsed": false
   },
   "outputs": [
    {
     "name": "stdout",
     "output_type": "stream",
     "text": [
      "             precision    recall  f1-score   support\n",
      "\n",
      "          0       0.57      0.56      0.57      1482\n",
      "          1       0.56      0.56      0.56      1438\n",
      "\n",
      "avg / total       0.56      0.56      0.56      2920\n",
      "\n",
      "\n",
      "\n",
      "[[836 646]\n",
      " [631 807]]\n"
     ]
    }
   ],
   "source": [
    "print(classification_report(y_test,dtree_pred))\n",
    "print('\\n')\n",
    "print(confusion_matrix(y_test,dtree_pred))"
   ]
  }
 ],
 "metadata": {
  "kernelspec": {
   "display_name": "Python 3",
   "language": "python",
   "name": "python3"
  },
  "language_info": {
   "codemirror_mode": {
    "name": "ipython",
    "version": 3
   },
   "file_extension": ".py",
   "mimetype": "text/x-python",
   "name": "python",
   "nbconvert_exporter": "python",
   "pygments_lexer": "ipython3",
   "version": "3.6.0"
  }
 },
 "nbformat": 4,
 "nbformat_minor": 2
}
